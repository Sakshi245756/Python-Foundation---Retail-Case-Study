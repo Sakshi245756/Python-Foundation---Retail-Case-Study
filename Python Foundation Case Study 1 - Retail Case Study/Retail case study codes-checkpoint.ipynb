{
 "cells": [
  {
   "cell_type": "code",
   "execution_count": 133,
   "id": "f1a5fa9e-2b21-4ac2-97c4-e213fcebf644",
   "metadata": {},
   "outputs": [],
   "source": [
    "#CUSTOMER ANALYSIS FOR RETAIL\n",
    "\n",
    "import numpy as np\n",
    "import pandas as pd\n",
    "import seaborn as sns\n",
    "import matplotlib.pyplot as plt\n",
    "import datetime"
   ]
  },
  {
   "cell_type": "code",
   "execution_count": 134,
   "id": "e7c10201-9464-485a-98cf-38c6a55ed4af",
   "metadata": {},
   "outputs": [],
   "source": [
    "#Customer: Customers information including demographics\n",
    "#Transaction: Transactions of customers\n",
    "# Product Heirarchy: Product information (cateogry, sub category etc...) \n"
   ]
  },
  {
   "cell_type": "code",
   "execution_count": 135,
   "id": "4b3c0bf5-7f76-425f-8045-9b4980a8dabb",
   "metadata": {},
   "outputs": [],
   "source": [
    "Customer = pd.read_csv('Customer.csv') "
   ]
  },
  {
   "cell_type": "code",
   "execution_count": 136,
   "id": "25fd97c5-871a-4421-b47d-8ba902f10e21",
   "metadata": {},
   "outputs": [],
   "source": [
    "Transaction = pd.read_csv('Transactions.csv')"
   ]
  },
  {
   "cell_type": "code",
   "execution_count": 137,
   "id": "8a0f9a8b-7f5c-4aee-9fe0-24a332e23a30",
   "metadata": {},
   "outputs": [],
   "source": [
    "Product_Heirarchy = pd.read_csv('prod_cat_info.csv')"
   ]
  },
  {
   "cell_type": "code",
   "execution_count": 138,
   "id": "09656699-7cce-4168-9ee1-894b6bccba3a",
   "metadata": {},
   "outputs": [],
   "source": [
    "# Q1 -Merge the datasets Customers, Product Hierarchy and Transactions as Customer_Final. Ensure to keep all customers who have done transactions \n",
    "# with us and select the join type accordingly.\n"
   ]
  },
  {
   "cell_type": "code",
   "execution_count": 139,
   "id": "7b8ccfd1-f7e3-4b06-bb5b-acb2907e704b",
   "metadata": {},
   "outputs": [
    {
     "data": {
      "text/html": [
       "<div>\n",
       "<style scoped>\n",
       "    .dataframe tbody tr th:only-of-type {\n",
       "        vertical-align: middle;\n",
       "    }\n",
       "\n",
       "    .dataframe tbody tr th {\n",
       "        vertical-align: top;\n",
       "    }\n",
       "\n",
       "    .dataframe thead th {\n",
       "        text-align: right;\n",
       "    }\n",
       "</style>\n",
       "<table border=\"1\" class=\"dataframe\">\n",
       "  <thead>\n",
       "    <tr style=\"text-align: right;\">\n",
       "      <th></th>\n",
       "      <th>customer_Id</th>\n",
       "      <th>DOB</th>\n",
       "      <th>Gender</th>\n",
       "      <th>city_code</th>\n",
       "    </tr>\n",
       "  </thead>\n",
       "  <tbody>\n",
       "    <tr>\n",
       "      <th>0</th>\n",
       "      <td>268408</td>\n",
       "      <td>02-01-1970</td>\n",
       "      <td>M</td>\n",
       "      <td>4.0</td>\n",
       "    </tr>\n",
       "    <tr>\n",
       "      <th>1</th>\n",
       "      <td>269696</td>\n",
       "      <td>07-01-1970</td>\n",
       "      <td>F</td>\n",
       "      <td>8.0</td>\n",
       "    </tr>\n",
       "  </tbody>\n",
       "</table>\n",
       "</div>"
      ],
      "text/plain": [
       "   customer_Id         DOB Gender  city_code\n",
       "0       268408  02-01-1970      M        4.0\n",
       "1       269696  07-01-1970      F        8.0"
      ]
     },
     "execution_count": 139,
     "metadata": {},
     "output_type": "execute_result"
    }
   ],
   "source": [
    "Customer.head(2)"
   ]
  },
  {
   "cell_type": "code",
   "execution_count": 140,
   "id": "5c7d1f0e-c4fb-40b0-9778-e3284bebc662",
   "metadata": {},
   "outputs": [
    {
     "data": {
      "text/html": [
       "<div>\n",
       "<style scoped>\n",
       "    .dataframe tbody tr th:only-of-type {\n",
       "        vertical-align: middle;\n",
       "    }\n",
       "\n",
       "    .dataframe tbody tr th {\n",
       "        vertical-align: top;\n",
       "    }\n",
       "\n",
       "    .dataframe thead th {\n",
       "        text-align: right;\n",
       "    }\n",
       "</style>\n",
       "<table border=\"1\" class=\"dataframe\">\n",
       "  <thead>\n",
       "    <tr style=\"text-align: right;\">\n",
       "      <th></th>\n",
       "      <th>transaction_id</th>\n",
       "      <th>cust_id</th>\n",
       "      <th>tran_date</th>\n",
       "      <th>prod_subcat_code</th>\n",
       "      <th>prod_cat_code</th>\n",
       "      <th>Qty</th>\n",
       "      <th>Rate</th>\n",
       "      <th>Tax</th>\n",
       "      <th>total_amt</th>\n",
       "      <th>Store_type</th>\n",
       "    </tr>\n",
       "  </thead>\n",
       "  <tbody>\n",
       "    <tr>\n",
       "      <th>0</th>\n",
       "      <td>80712190438</td>\n",
       "      <td>270351</td>\n",
       "      <td>28-02-2014</td>\n",
       "      <td>1</td>\n",
       "      <td>1</td>\n",
       "      <td>-5</td>\n",
       "      <td>-772</td>\n",
       "      <td>405.300</td>\n",
       "      <td>-4265.300</td>\n",
       "      <td>e-Shop</td>\n",
       "    </tr>\n",
       "    <tr>\n",
       "      <th>1</th>\n",
       "      <td>29258453508</td>\n",
       "      <td>270384</td>\n",
       "      <td>27-02-2014</td>\n",
       "      <td>5</td>\n",
       "      <td>3</td>\n",
       "      <td>-5</td>\n",
       "      <td>-1497</td>\n",
       "      <td>785.925</td>\n",
       "      <td>-8270.925</td>\n",
       "      <td>e-Shop</td>\n",
       "    </tr>\n",
       "  </tbody>\n",
       "</table>\n",
       "</div>"
      ],
      "text/plain": [
       "   transaction_id  cust_id   tran_date  prod_subcat_code  prod_cat_code  Qty  \\\n",
       "0     80712190438   270351  28-02-2014                 1              1   -5   \n",
       "1     29258453508   270384  27-02-2014                 5              3   -5   \n",
       "\n",
       "   Rate      Tax  total_amt Store_type  \n",
       "0  -772  405.300  -4265.300     e-Shop  \n",
       "1 -1497  785.925  -8270.925     e-Shop  "
      ]
     },
     "execution_count": 140,
     "metadata": {},
     "output_type": "execute_result"
    }
   ],
   "source": [
    "Transaction.head(2)"
   ]
  },
  {
   "cell_type": "code",
   "execution_count": 141,
   "id": "6573f21a-3b82-4078-9009-df496b4f72cd",
   "metadata": {},
   "outputs": [
    {
     "data": {
      "text/html": [
       "<div>\n",
       "<style scoped>\n",
       "    .dataframe tbody tr th:only-of-type {\n",
       "        vertical-align: middle;\n",
       "    }\n",
       "\n",
       "    .dataframe tbody tr th {\n",
       "        vertical-align: top;\n",
       "    }\n",
       "\n",
       "    .dataframe thead th {\n",
       "        text-align: right;\n",
       "    }\n",
       "</style>\n",
       "<table border=\"1\" class=\"dataframe\">\n",
       "  <thead>\n",
       "    <tr style=\"text-align: right;\">\n",
       "      <th></th>\n",
       "      <th>prod_cat_code</th>\n",
       "      <th>prod_cat</th>\n",
       "      <th>prod_sub_cat_code</th>\n",
       "      <th>prod_subcat</th>\n",
       "    </tr>\n",
       "  </thead>\n",
       "  <tbody>\n",
       "    <tr>\n",
       "      <th>0</th>\n",
       "      <td>1</td>\n",
       "      <td>Clothing</td>\n",
       "      <td>4</td>\n",
       "      <td>Mens</td>\n",
       "    </tr>\n",
       "    <tr>\n",
       "      <th>1</th>\n",
       "      <td>1</td>\n",
       "      <td>Clothing</td>\n",
       "      <td>1</td>\n",
       "      <td>Women</td>\n",
       "    </tr>\n",
       "  </tbody>\n",
       "</table>\n",
       "</div>"
      ],
      "text/plain": [
       "   prod_cat_code  prod_cat  prod_sub_cat_code prod_subcat\n",
       "0              1  Clothing                  4        Mens\n",
       "1              1  Clothing                  1       Women"
      ]
     },
     "execution_count": 141,
     "metadata": {},
     "output_type": "execute_result"
    }
   ],
   "source": [
    "Product_Heirarchy.head(2)"
   ]
  },
  {
   "cell_type": "code",
   "execution_count": 142,
   "id": "7dcc6a33-be85-4fbe-b8bf-c375ad20db1c",
   "metadata": {},
   "outputs": [],
   "source": [
    "Cust_trans = pd.merge(left = Customer, right = Transaction, left_on = 'customer_Id', right_on = 'cust_id', how= 'left')"
   ]
  },
  {
   "cell_type": "code",
   "execution_count": 143,
   "id": "c7315505-7cdf-4da3-a722-3c7b417b5a93",
   "metadata": {},
   "outputs": [
    {
     "data": {
      "text/html": [
       "<div>\n",
       "<style scoped>\n",
       "    .dataframe tbody tr th:only-of-type {\n",
       "        vertical-align: middle;\n",
       "    }\n",
       "\n",
       "    .dataframe tbody tr th {\n",
       "        vertical-align: top;\n",
       "    }\n",
       "\n",
       "    .dataframe thead th {\n",
       "        text-align: right;\n",
       "    }\n",
       "</style>\n",
       "<table border=\"1\" class=\"dataframe\">\n",
       "  <thead>\n",
       "    <tr style=\"text-align: right;\">\n",
       "      <th></th>\n",
       "      <th>customer_Id</th>\n",
       "      <th>DOB</th>\n",
       "      <th>Gender</th>\n",
       "      <th>city_code</th>\n",
       "      <th>transaction_id</th>\n",
       "      <th>cust_id</th>\n",
       "      <th>tran_date</th>\n",
       "      <th>prod_subcat_code</th>\n",
       "      <th>prod_cat_code</th>\n",
       "      <th>Qty</th>\n",
       "      <th>Rate</th>\n",
       "      <th>Tax</th>\n",
       "      <th>total_amt</th>\n",
       "      <th>Store_type</th>\n",
       "    </tr>\n",
       "  </thead>\n",
       "  <tbody>\n",
       "    <tr>\n",
       "      <th>0</th>\n",
       "      <td>268408</td>\n",
       "      <td>02-01-1970</td>\n",
       "      <td>M</td>\n",
       "      <td>4.0</td>\n",
       "      <td>8.724384e+10</td>\n",
       "      <td>268408.0</td>\n",
       "      <td>13-01-2014</td>\n",
       "      <td>7.0</td>\n",
       "      <td>5.0</td>\n",
       "      <td>5.0</td>\n",
       "      <td>187.0</td>\n",
       "      <td>98.175</td>\n",
       "      <td>1033.175</td>\n",
       "      <td>TeleShop</td>\n",
       "    </tr>\n",
       "    <tr>\n",
       "      <th>1</th>\n",
       "      <td>268408</td>\n",
       "      <td>02-01-1970</td>\n",
       "      <td>M</td>\n",
       "      <td>4.0</td>\n",
       "      <td>1.619787e+10</td>\n",
       "      <td>268408.0</td>\n",
       "      <td>16-12-2013</td>\n",
       "      <td>1.0</td>\n",
       "      <td>4.0</td>\n",
       "      <td>-5.0</td>\n",
       "      <td>-210.0</td>\n",
       "      <td>110.250</td>\n",
       "      <td>-1160.250</td>\n",
       "      <td>Flagship store</td>\n",
       "    </tr>\n",
       "  </tbody>\n",
       "</table>\n",
       "</div>"
      ],
      "text/plain": [
       "   customer_Id         DOB Gender  city_code  transaction_id   cust_id  \\\n",
       "0       268408  02-01-1970      M        4.0    8.724384e+10  268408.0   \n",
       "1       268408  02-01-1970      M        4.0    1.619787e+10  268408.0   \n",
       "\n",
       "    tran_date  prod_subcat_code  prod_cat_code  Qty   Rate      Tax  \\\n",
       "0  13-01-2014               7.0            5.0  5.0  187.0   98.175   \n",
       "1  16-12-2013               1.0            4.0 -5.0 -210.0  110.250   \n",
       "\n",
       "   total_amt      Store_type  \n",
       "0   1033.175        TeleShop  \n",
       "1  -1160.250  Flagship store  "
      ]
     },
     "execution_count": 143,
     "metadata": {},
     "output_type": "execute_result"
    }
   ],
   "source": [
    "Cust_trans.head(2)"
   ]
  },
  {
   "cell_type": "code",
   "execution_count": 144,
   "id": "9d83780e-20f7-4a19-8e22-793e772b85d8",
   "metadata": {},
   "outputs": [],
   "source": [
    "Customer_Final = pd.merge(left = Cust_trans, right = Product_Heirarchy, left_on = 'prod_cat_code', right_on = 'prod_cat_code', how = 'right', indicator = True)"
   ]
  },
  {
   "cell_type": "code",
   "execution_count": 145,
   "id": "32bea8b0-7064-4350-9fb5-053aae84a1ee",
   "metadata": {},
   "outputs": [
    {
     "data": {
      "text/html": [
       "<div>\n",
       "<style scoped>\n",
       "    .dataframe tbody tr th:only-of-type {\n",
       "        vertical-align: middle;\n",
       "    }\n",
       "\n",
       "    .dataframe tbody tr th {\n",
       "        vertical-align: top;\n",
       "    }\n",
       "\n",
       "    .dataframe thead th {\n",
       "        text-align: right;\n",
       "    }\n",
       "</style>\n",
       "<table border=\"1\" class=\"dataframe\">\n",
       "  <thead>\n",
       "    <tr style=\"text-align: right;\">\n",
       "      <th></th>\n",
       "      <th>customer_Id</th>\n",
       "      <th>DOB</th>\n",
       "      <th>Gender</th>\n",
       "      <th>city_code</th>\n",
       "      <th>transaction_id</th>\n",
       "      <th>cust_id</th>\n",
       "      <th>tran_date</th>\n",
       "      <th>prod_subcat_code</th>\n",
       "      <th>prod_cat_code</th>\n",
       "      <th>Qty</th>\n",
       "      <th>Rate</th>\n",
       "      <th>Tax</th>\n",
       "      <th>total_amt</th>\n",
       "      <th>Store_type</th>\n",
       "      <th>prod_cat</th>\n",
       "      <th>prod_sub_cat_code</th>\n",
       "      <th>prod_subcat</th>\n",
       "      <th>_merge</th>\n",
       "    </tr>\n",
       "  </thead>\n",
       "  <tbody>\n",
       "    <tr>\n",
       "      <th>0</th>\n",
       "      <td>268408</td>\n",
       "      <td>02-01-1970</td>\n",
       "      <td>M</td>\n",
       "      <td>4.0</td>\n",
       "      <td>6.331455e+10</td>\n",
       "      <td>268408.0</td>\n",
       "      <td>26-04-2012</td>\n",
       "      <td>1.0</td>\n",
       "      <td>1.0</td>\n",
       "      <td>1.0</td>\n",
       "      <td>806.0</td>\n",
       "      <td>84.63</td>\n",
       "      <td>890.63</td>\n",
       "      <td>Flagship store</td>\n",
       "      <td>Clothing</td>\n",
       "      <td>4</td>\n",
       "      <td>Mens</td>\n",
       "      <td>both</td>\n",
       "    </tr>\n",
       "    <tr>\n",
       "      <th>1</th>\n",
       "      <td>268159</td>\n",
       "      <td>08-01-1970</td>\n",
       "      <td>F</td>\n",
       "      <td>8.0</td>\n",
       "      <td>6.033834e+10</td>\n",
       "      <td>268159.0</td>\n",
       "      <td>3/10/2013</td>\n",
       "      <td>3.0</td>\n",
       "      <td>1.0</td>\n",
       "      <td>1.0</td>\n",
       "      <td>318.0</td>\n",
       "      <td>33.39</td>\n",
       "      <td>351.39</td>\n",
       "      <td>e-Shop</td>\n",
       "      <td>Clothing</td>\n",
       "      <td>4</td>\n",
       "      <td>Mens</td>\n",
       "      <td>both</td>\n",
       "    </tr>\n",
       "  </tbody>\n",
       "</table>\n",
       "</div>"
      ],
      "text/plain": [
       "   customer_Id         DOB Gender  city_code  transaction_id   cust_id  \\\n",
       "0       268408  02-01-1970      M        4.0    6.331455e+10  268408.0   \n",
       "1       268159  08-01-1970      F        8.0    6.033834e+10  268159.0   \n",
       "\n",
       "    tran_date  prod_subcat_code  prod_cat_code  Qty   Rate    Tax  total_amt  \\\n",
       "0  26-04-2012               1.0            1.0  1.0  806.0  84.63     890.63   \n",
       "1   3/10/2013               3.0            1.0  1.0  318.0  33.39     351.39   \n",
       "\n",
       "       Store_type  prod_cat  prod_sub_cat_code prod_subcat _merge  \n",
       "0  Flagship store  Clothing                  4        Mens   both  \n",
       "1          e-Shop  Clothing                  4        Mens   both  "
      ]
     },
     "execution_count": 145,
     "metadata": {},
     "output_type": "execute_result"
    }
   ],
   "source": [
    "Customer_Final.head(2)"
   ]
  },
  {
   "cell_type": "code",
   "execution_count": 146,
   "id": "abac20d5-dc2a-4485-a7db-24e0c7755d2e",
   "metadata": {},
   "outputs": [],
   "source": [
    "# 2. Prepare a summary report for the merged data set.\n",
    "# a. Get the column names and their corresponding data types\n",
    "# b. Top/Bottom 10 observation\n",
    "# c. “Five-number summary” for continuous variables (min, Q1, median, Q3 and max)\n",
    "# d. Frequency tables for all the categorical variable"
   ]
  },
  {
   "cell_type": "code",
   "execution_count": 147,
   "id": "c23d694f-c90a-4e54-892b-7e178208bb4b",
   "metadata": {},
   "outputs": [
    {
     "data": {
      "text/plain": [
       "customer_Id             int64\n",
       "DOB                    object\n",
       "Gender                 object\n",
       "city_code             float64\n",
       "transaction_id        float64\n",
       "cust_id               float64\n",
       "tran_date              object\n",
       "prod_subcat_code      float64\n",
       "prod_cat_code         float64\n",
       "Qty                   float64\n",
       "Rate                  float64\n",
       "Tax                   float64\n",
       "total_amt             float64\n",
       "Store_type             object\n",
       "prod_cat               object\n",
       "prod_sub_cat_code       int64\n",
       "prod_subcat            object\n",
       "_merge               category\n",
       "dtype: object"
      ]
     },
     "execution_count": 147,
     "metadata": {},
     "output_type": "execute_result"
    }
   ],
   "source": [
    "Customer_Final.dtypes"
   ]
  },
  {
   "cell_type": "code",
   "execution_count": 148,
   "id": "bebf6cac-d2d5-4146-833d-55f8809933b4",
   "metadata": {},
   "outputs": [
    {
     "name": "stdout",
     "output_type": "stream",
     "text": [
      "<class 'pandas.core.frame.DataFrame'>\n",
      "RangeIndex: 99293 entries, 0 to 99292\n",
      "Data columns (total 18 columns):\n",
      " #   Column             Non-Null Count  Dtype   \n",
      "---  ------             --------------  -----   \n",
      " 0   customer_Id        99293 non-null  int64   \n",
      " 1   DOB                99293 non-null  object  \n",
      " 2   Gender             99253 non-null  object  \n",
      " 3   city_code          99257 non-null  float64 \n",
      " 4   transaction_id     99293 non-null  float64 \n",
      " 5   cust_id            99293 non-null  float64 \n",
      " 6   tran_date          99293 non-null  object  \n",
      " 7   prod_subcat_code   99293 non-null  float64 \n",
      " 8   prod_cat_code      99293 non-null  float64 \n",
      " 9   Qty                99293 non-null  float64 \n",
      " 10  Rate               99293 non-null  float64 \n",
      " 11  Tax                99293 non-null  float64 \n",
      " 12  total_amt          99293 non-null  float64 \n",
      " 13  Store_type         99293 non-null  object  \n",
      " 14  prod_cat           99293 non-null  object  \n",
      " 15  prod_sub_cat_code  99293 non-null  int64   \n",
      " 16  prod_subcat        99293 non-null  object  \n",
      " 17  _merge             99293 non-null  category\n",
      "dtypes: category(1), float64(9), int64(2), object(6)\n",
      "memory usage: 13.0+ MB\n"
     ]
    }
   ],
   "source": [
    "Customer_Final.info()"
   ]
  },
  {
   "cell_type": "code",
   "execution_count": 149,
   "id": "6cdadb65-7136-48a8-b359-a6b4bfcffc34",
   "metadata": {},
   "outputs": [
    {
     "data": {
      "text/html": [
       "<div>\n",
       "<style scoped>\n",
       "    .dataframe tbody tr th:only-of-type {\n",
       "        vertical-align: middle;\n",
       "    }\n",
       "\n",
       "    .dataframe tbody tr th {\n",
       "        vertical-align: top;\n",
       "    }\n",
       "\n",
       "    .dataframe thead th {\n",
       "        text-align: right;\n",
       "    }\n",
       "</style>\n",
       "<table border=\"1\" class=\"dataframe\">\n",
       "  <thead>\n",
       "    <tr style=\"text-align: right;\">\n",
       "      <th></th>\n",
       "      <th>customer_Id</th>\n",
       "      <th>DOB</th>\n",
       "      <th>Gender</th>\n",
       "      <th>city_code</th>\n",
       "      <th>transaction_id</th>\n",
       "      <th>cust_id</th>\n",
       "      <th>tran_date</th>\n",
       "      <th>prod_subcat_code</th>\n",
       "      <th>prod_cat_code</th>\n",
       "      <th>Qty</th>\n",
       "      <th>Rate</th>\n",
       "      <th>Tax</th>\n",
       "      <th>total_amt</th>\n",
       "      <th>Store_type</th>\n",
       "      <th>prod_cat</th>\n",
       "      <th>prod_sub_cat_code</th>\n",
       "      <th>prod_subcat</th>\n",
       "      <th>_merge</th>\n",
       "    </tr>\n",
       "  </thead>\n",
       "  <tbody>\n",
       "    <tr>\n",
       "      <th>0</th>\n",
       "      <td>268408</td>\n",
       "      <td>02-01-1970</td>\n",
       "      <td>M</td>\n",
       "      <td>4.0</td>\n",
       "      <td>6.331455e+10</td>\n",
       "      <td>268408.0</td>\n",
       "      <td>26-04-2012</td>\n",
       "      <td>1.0</td>\n",
       "      <td>1.0</td>\n",
       "      <td>1.0</td>\n",
       "      <td>806.0</td>\n",
       "      <td>84.630</td>\n",
       "      <td>890.630</td>\n",
       "      <td>Flagship store</td>\n",
       "      <td>Clothing</td>\n",
       "      <td>4</td>\n",
       "      <td>Mens</td>\n",
       "      <td>both</td>\n",
       "    </tr>\n",
       "    <tr>\n",
       "      <th>1</th>\n",
       "      <td>268159</td>\n",
       "      <td>08-01-1970</td>\n",
       "      <td>F</td>\n",
       "      <td>8.0</td>\n",
       "      <td>6.033834e+10</td>\n",
       "      <td>268159.0</td>\n",
       "      <td>3/10/2013</td>\n",
       "      <td>3.0</td>\n",
       "      <td>1.0</td>\n",
       "      <td>1.0</td>\n",
       "      <td>318.0</td>\n",
       "      <td>33.390</td>\n",
       "      <td>351.390</td>\n",
       "      <td>e-Shop</td>\n",
       "      <td>Clothing</td>\n",
       "      <td>4</td>\n",
       "      <td>Mens</td>\n",
       "      <td>both</td>\n",
       "    </tr>\n",
       "    <tr>\n",
       "      <th>2</th>\n",
       "      <td>268159</td>\n",
       "      <td>08-01-1970</td>\n",
       "      <td>F</td>\n",
       "      <td>8.0</td>\n",
       "      <td>8.489758e+10</td>\n",
       "      <td>268159.0</td>\n",
       "      <td>24-12-2012</td>\n",
       "      <td>3.0</td>\n",
       "      <td>1.0</td>\n",
       "      <td>5.0</td>\n",
       "      <td>1410.0</td>\n",
       "      <td>740.250</td>\n",
       "      <td>7790.250</td>\n",
       "      <td>e-Shop</td>\n",
       "      <td>Clothing</td>\n",
       "      <td>4</td>\n",
       "      <td>Mens</td>\n",
       "      <td>both</td>\n",
       "    </tr>\n",
       "    <tr>\n",
       "      <th>3</th>\n",
       "      <td>270181</td>\n",
       "      <td>10-01-1970</td>\n",
       "      <td>F</td>\n",
       "      <td>2.0</td>\n",
       "      <td>7.172006e+10</td>\n",
       "      <td>270181.0</td>\n",
       "      <td>4/7/2013</td>\n",
       "      <td>3.0</td>\n",
       "      <td>1.0</td>\n",
       "      <td>4.0</td>\n",
       "      <td>1210.0</td>\n",
       "      <td>508.200</td>\n",
       "      <td>5348.200</td>\n",
       "      <td>Flagship store</td>\n",
       "      <td>Clothing</td>\n",
       "      <td>4</td>\n",
       "      <td>Mens</td>\n",
       "      <td>both</td>\n",
       "    </tr>\n",
       "    <tr>\n",
       "      <th>4</th>\n",
       "      <td>273216</td>\n",
       "      <td>15-01-1970</td>\n",
       "      <td>F</td>\n",
       "      <td>5.0</td>\n",
       "      <td>6.653670e+10</td>\n",
       "      <td>273216.0</td>\n",
       "      <td>3/11/2012</td>\n",
       "      <td>3.0</td>\n",
       "      <td>1.0</td>\n",
       "      <td>4.0</td>\n",
       "      <td>825.0</td>\n",
       "      <td>346.500</td>\n",
       "      <td>3646.500</td>\n",
       "      <td>MBR</td>\n",
       "      <td>Clothing</td>\n",
       "      <td>4</td>\n",
       "      <td>Mens</td>\n",
       "      <td>both</td>\n",
       "    </tr>\n",
       "    <tr>\n",
       "      <th>5</th>\n",
       "      <td>275152</td>\n",
       "      <td>16-01-1970</td>\n",
       "      <td>M</td>\n",
       "      <td>4.0</td>\n",
       "      <td>7.775624e+10</td>\n",
       "      <td>275152.0</td>\n",
       "      <td>10/9/2013</td>\n",
       "      <td>4.0</td>\n",
       "      <td>1.0</td>\n",
       "      <td>5.0</td>\n",
       "      <td>308.0</td>\n",
       "      <td>161.700</td>\n",
       "      <td>1701.700</td>\n",
       "      <td>e-Shop</td>\n",
       "      <td>Clothing</td>\n",
       "      <td>4</td>\n",
       "      <td>Mens</td>\n",
       "      <td>both</td>\n",
       "    </tr>\n",
       "    <tr>\n",
       "      <th>6</th>\n",
       "      <td>275034</td>\n",
       "      <td>18-01-1970</td>\n",
       "      <td>F</td>\n",
       "      <td>4.0</td>\n",
       "      <td>2.588572e+10</td>\n",
       "      <td>275034.0</td>\n",
       "      <td>28-05-2013</td>\n",
       "      <td>3.0</td>\n",
       "      <td>1.0</td>\n",
       "      <td>-2.0</td>\n",
       "      <td>-905.0</td>\n",
       "      <td>190.050</td>\n",
       "      <td>-2000.050</td>\n",
       "      <td>Flagship store</td>\n",
       "      <td>Clothing</td>\n",
       "      <td>4</td>\n",
       "      <td>Mens</td>\n",
       "      <td>both</td>\n",
       "    </tr>\n",
       "    <tr>\n",
       "      <th>7</th>\n",
       "      <td>275034</td>\n",
       "      <td>18-01-1970</td>\n",
       "      <td>F</td>\n",
       "      <td>4.0</td>\n",
       "      <td>2.588572e+10</td>\n",
       "      <td>275034.0</td>\n",
       "      <td>25-05-2013</td>\n",
       "      <td>3.0</td>\n",
       "      <td>1.0</td>\n",
       "      <td>2.0</td>\n",
       "      <td>905.0</td>\n",
       "      <td>190.050</td>\n",
       "      <td>2000.050</td>\n",
       "      <td>Flagship store</td>\n",
       "      <td>Clothing</td>\n",
       "      <td>4</td>\n",
       "      <td>Mens</td>\n",
       "      <td>both</td>\n",
       "    </tr>\n",
       "    <tr>\n",
       "      <th>8</th>\n",
       "      <td>273541</td>\n",
       "      <td>01-02-1970</td>\n",
       "      <td>M</td>\n",
       "      <td>4.0</td>\n",
       "      <td>2.551195e+10</td>\n",
       "      <td>273541.0</td>\n",
       "      <td>31-12-2013</td>\n",
       "      <td>3.0</td>\n",
       "      <td>1.0</td>\n",
       "      <td>-3.0</td>\n",
       "      <td>-253.0</td>\n",
       "      <td>79.695</td>\n",
       "      <td>-838.695</td>\n",
       "      <td>MBR</td>\n",
       "      <td>Clothing</td>\n",
       "      <td>4</td>\n",
       "      <td>Mens</td>\n",
       "      <td>both</td>\n",
       "    </tr>\n",
       "    <tr>\n",
       "      <th>9</th>\n",
       "      <td>273541</td>\n",
       "      <td>01-02-1970</td>\n",
       "      <td>M</td>\n",
       "      <td>4.0</td>\n",
       "      <td>2.551195e+10</td>\n",
       "      <td>273541.0</td>\n",
       "      <td>23-12-2013</td>\n",
       "      <td>3.0</td>\n",
       "      <td>1.0</td>\n",
       "      <td>3.0</td>\n",
       "      <td>253.0</td>\n",
       "      <td>79.695</td>\n",
       "      <td>838.695</td>\n",
       "      <td>MBR</td>\n",
       "      <td>Clothing</td>\n",
       "      <td>4</td>\n",
       "      <td>Mens</td>\n",
       "      <td>both</td>\n",
       "    </tr>\n",
       "  </tbody>\n",
       "</table>\n",
       "</div>"
      ],
      "text/plain": [
       "   customer_Id         DOB Gender  city_code  transaction_id   cust_id  \\\n",
       "0       268408  02-01-1970      M        4.0    6.331455e+10  268408.0   \n",
       "1       268159  08-01-1970      F        8.0    6.033834e+10  268159.0   \n",
       "2       268159  08-01-1970      F        8.0    8.489758e+10  268159.0   \n",
       "3       270181  10-01-1970      F        2.0    7.172006e+10  270181.0   \n",
       "4       273216  15-01-1970      F        5.0    6.653670e+10  273216.0   \n",
       "5       275152  16-01-1970      M        4.0    7.775624e+10  275152.0   \n",
       "6       275034  18-01-1970      F        4.0    2.588572e+10  275034.0   \n",
       "7       275034  18-01-1970      F        4.0    2.588572e+10  275034.0   \n",
       "8       273541  01-02-1970      M        4.0    2.551195e+10  273541.0   \n",
       "9       273541  01-02-1970      M        4.0    2.551195e+10  273541.0   \n",
       "\n",
       "    tran_date  prod_subcat_code  prod_cat_code  Qty    Rate      Tax  \\\n",
       "0  26-04-2012               1.0            1.0  1.0   806.0   84.630   \n",
       "1   3/10/2013               3.0            1.0  1.0   318.0   33.390   \n",
       "2  24-12-2012               3.0            1.0  5.0  1410.0  740.250   \n",
       "3    4/7/2013               3.0            1.0  4.0  1210.0  508.200   \n",
       "4   3/11/2012               3.0            1.0  4.0   825.0  346.500   \n",
       "5   10/9/2013               4.0            1.0  5.0   308.0  161.700   \n",
       "6  28-05-2013               3.0            1.0 -2.0  -905.0  190.050   \n",
       "7  25-05-2013               3.0            1.0  2.0   905.0  190.050   \n",
       "8  31-12-2013               3.0            1.0 -3.0  -253.0   79.695   \n",
       "9  23-12-2013               3.0            1.0  3.0   253.0   79.695   \n",
       "\n",
       "   total_amt      Store_type  prod_cat  prod_sub_cat_code prod_subcat _merge  \n",
       "0    890.630  Flagship store  Clothing                  4        Mens   both  \n",
       "1    351.390          e-Shop  Clothing                  4        Mens   both  \n",
       "2   7790.250          e-Shop  Clothing                  4        Mens   both  \n",
       "3   5348.200  Flagship store  Clothing                  4        Mens   both  \n",
       "4   3646.500             MBR  Clothing                  4        Mens   both  \n",
       "5   1701.700          e-Shop  Clothing                  4        Mens   both  \n",
       "6  -2000.050  Flagship store  Clothing                  4        Mens   both  \n",
       "7   2000.050  Flagship store  Clothing                  4        Mens   both  \n",
       "8   -838.695             MBR  Clothing                  4        Mens   both  \n",
       "9    838.695             MBR  Clothing                  4        Mens   both  "
      ]
     },
     "execution_count": 149,
     "metadata": {},
     "output_type": "execute_result"
    }
   ],
   "source": [
    "Customer_Final.head(10)"
   ]
  },
  {
   "cell_type": "code",
   "execution_count": 150,
   "id": "23f65210-d38c-4928-8ed0-2b9ccd3e5ae9",
   "metadata": {},
   "outputs": [
    {
     "data": {
      "text/html": [
       "<div>\n",
       "<style scoped>\n",
       "    .dataframe tbody tr th:only-of-type {\n",
       "        vertical-align: middle;\n",
       "    }\n",
       "\n",
       "    .dataframe tbody tr th {\n",
       "        vertical-align: top;\n",
       "    }\n",
       "\n",
       "    .dataframe thead th {\n",
       "        text-align: right;\n",
       "    }\n",
       "</style>\n",
       "<table border=\"1\" class=\"dataframe\">\n",
       "  <thead>\n",
       "    <tr style=\"text-align: right;\">\n",
       "      <th></th>\n",
       "      <th>customer_Id</th>\n",
       "      <th>DOB</th>\n",
       "      <th>Gender</th>\n",
       "      <th>city_code</th>\n",
       "      <th>transaction_id</th>\n",
       "      <th>cust_id</th>\n",
       "      <th>tran_date</th>\n",
       "      <th>prod_subcat_code</th>\n",
       "      <th>prod_cat_code</th>\n",
       "      <th>Qty</th>\n",
       "      <th>Rate</th>\n",
       "      <th>Tax</th>\n",
       "      <th>total_amt</th>\n",
       "      <th>Store_type</th>\n",
       "      <th>prod_cat</th>\n",
       "      <th>prod_sub_cat_code</th>\n",
       "      <th>prod_subcat</th>\n",
       "      <th>_merge</th>\n",
       "    </tr>\n",
       "  </thead>\n",
       "  <tbody>\n",
       "    <tr>\n",
       "      <th>99283</th>\n",
       "      <td>269277</td>\n",
       "      <td>09-12-1992</td>\n",
       "      <td>F</td>\n",
       "      <td>2.0</td>\n",
       "      <td>6.327098e+10</td>\n",
       "      <td>269277.0</td>\n",
       "      <td>29-06-2012</td>\n",
       "      <td>12.0</td>\n",
       "      <td>6.0</td>\n",
       "      <td>4.0</td>\n",
       "      <td>1278.0</td>\n",
       "      <td>536.760</td>\n",
       "      <td>5648.760</td>\n",
       "      <td>e-Shop</td>\n",
       "      <td>Home and kitchen</td>\n",
       "      <td>12</td>\n",
       "      <td>Tools</td>\n",
       "      <td>both</td>\n",
       "    </tr>\n",
       "    <tr>\n",
       "      <th>99284</th>\n",
       "      <td>268929</td>\n",
       "      <td>12-12-1992</td>\n",
       "      <td>F</td>\n",
       "      <td>6.0</td>\n",
       "      <td>8.476720e+10</td>\n",
       "      <td>268929.0</td>\n",
       "      <td>14-09-2013</td>\n",
       "      <td>2.0</td>\n",
       "      <td>6.0</td>\n",
       "      <td>3.0</td>\n",
       "      <td>1366.0</td>\n",
       "      <td>430.290</td>\n",
       "      <td>4528.290</td>\n",
       "      <td>MBR</td>\n",
       "      <td>Home and kitchen</td>\n",
       "      <td>12</td>\n",
       "      <td>Tools</td>\n",
       "      <td>both</td>\n",
       "    </tr>\n",
       "    <tr>\n",
       "      <th>99285</th>\n",
       "      <td>269621</td>\n",
       "      <td>16-12-1992</td>\n",
       "      <td>F</td>\n",
       "      <td>10.0</td>\n",
       "      <td>4.577343e+10</td>\n",
       "      <td>269621.0</td>\n",
       "      <td>23-12-2011</td>\n",
       "      <td>10.0</td>\n",
       "      <td>6.0</td>\n",
       "      <td>2.0</td>\n",
       "      <td>1382.0</td>\n",
       "      <td>290.220</td>\n",
       "      <td>3054.220</td>\n",
       "      <td>TeleShop</td>\n",
       "      <td>Home and kitchen</td>\n",
       "      <td>12</td>\n",
       "      <td>Tools</td>\n",
       "      <td>both</td>\n",
       "    </tr>\n",
       "    <tr>\n",
       "      <th>99286</th>\n",
       "      <td>271772</td>\n",
       "      <td>17-12-1992</td>\n",
       "      <td>M</td>\n",
       "      <td>2.0</td>\n",
       "      <td>6.189740e+10</td>\n",
       "      <td>271772.0</td>\n",
       "      <td>7/10/2011</td>\n",
       "      <td>2.0</td>\n",
       "      <td>6.0</td>\n",
       "      <td>1.0</td>\n",
       "      <td>197.0</td>\n",
       "      <td>20.685</td>\n",
       "      <td>217.685</td>\n",
       "      <td>e-Shop</td>\n",
       "      <td>Home and kitchen</td>\n",
       "      <td>12</td>\n",
       "      <td>Tools</td>\n",
       "      <td>both</td>\n",
       "    </tr>\n",
       "    <tr>\n",
       "      <th>99287</th>\n",
       "      <td>274474</td>\n",
       "      <td>19-12-1992</td>\n",
       "      <td>M</td>\n",
       "      <td>2.0</td>\n",
       "      <td>8.943275e+10</td>\n",
       "      <td>274474.0</td>\n",
       "      <td>31-08-2011</td>\n",
       "      <td>2.0</td>\n",
       "      <td>6.0</td>\n",
       "      <td>2.0</td>\n",
       "      <td>1334.0</td>\n",
       "      <td>280.140</td>\n",
       "      <td>2948.140</td>\n",
       "      <td>e-Shop</td>\n",
       "      <td>Home and kitchen</td>\n",
       "      <td>12</td>\n",
       "      <td>Tools</td>\n",
       "      <td>both</td>\n",
       "    </tr>\n",
       "    <tr>\n",
       "      <th>99288</th>\n",
       "      <td>267666</td>\n",
       "      <td>24-12-1992</td>\n",
       "      <td>M</td>\n",
       "      <td>6.0</td>\n",
       "      <td>5.009803e+10</td>\n",
       "      <td>267666.0</td>\n",
       "      <td>7/1/2014</td>\n",
       "      <td>12.0</td>\n",
       "      <td>6.0</td>\n",
       "      <td>5.0</td>\n",
       "      <td>591.0</td>\n",
       "      <td>310.275</td>\n",
       "      <td>3265.275</td>\n",
       "      <td>e-Shop</td>\n",
       "      <td>Home and kitchen</td>\n",
       "      <td>12</td>\n",
       "      <td>Tools</td>\n",
       "      <td>both</td>\n",
       "    </tr>\n",
       "    <tr>\n",
       "      <th>99289</th>\n",
       "      <td>267666</td>\n",
       "      <td>24-12-1992</td>\n",
       "      <td>M</td>\n",
       "      <td>6.0</td>\n",
       "      <td>7.237379e+10</td>\n",
       "      <td>267666.0</td>\n",
       "      <td>22-10-2013</td>\n",
       "      <td>11.0</td>\n",
       "      <td>6.0</td>\n",
       "      <td>2.0</td>\n",
       "      <td>612.0</td>\n",
       "      <td>128.520</td>\n",
       "      <td>1352.520</td>\n",
       "      <td>e-Shop</td>\n",
       "      <td>Home and kitchen</td>\n",
       "      <td>12</td>\n",
       "      <td>Tools</td>\n",
       "      <td>both</td>\n",
       "    </tr>\n",
       "    <tr>\n",
       "      <th>99290</th>\n",
       "      <td>267666</td>\n",
       "      <td>24-12-1992</td>\n",
       "      <td>M</td>\n",
       "      <td>6.0</td>\n",
       "      <td>9.720348e+10</td>\n",
       "      <td>267666.0</td>\n",
       "      <td>23-10-2011</td>\n",
       "      <td>2.0</td>\n",
       "      <td>6.0</td>\n",
       "      <td>3.0</td>\n",
       "      <td>507.0</td>\n",
       "      <td>159.705</td>\n",
       "      <td>1680.705</td>\n",
       "      <td>MBR</td>\n",
       "      <td>Home and kitchen</td>\n",
       "      <td>12</td>\n",
       "      <td>Tools</td>\n",
       "      <td>both</td>\n",
       "    </tr>\n",
       "    <tr>\n",
       "      <th>99291</th>\n",
       "      <td>270476</td>\n",
       "      <td>25-12-1992</td>\n",
       "      <td>F</td>\n",
       "      <td>3.0</td>\n",
       "      <td>7.803441e+10</td>\n",
       "      <td>270476.0</td>\n",
       "      <td>13-08-2013</td>\n",
       "      <td>11.0</td>\n",
       "      <td>6.0</td>\n",
       "      <td>1.0</td>\n",
       "      <td>971.0</td>\n",
       "      <td>101.955</td>\n",
       "      <td>1072.955</td>\n",
       "      <td>TeleShop</td>\n",
       "      <td>Home and kitchen</td>\n",
       "      <td>12</td>\n",
       "      <td>Tools</td>\n",
       "      <td>both</td>\n",
       "    </tr>\n",
       "    <tr>\n",
       "      <th>99292</th>\n",
       "      <td>269626</td>\n",
       "      <td>27-12-1992</td>\n",
       "      <td>F</td>\n",
       "      <td>5.0</td>\n",
       "      <td>7.136903e+10</td>\n",
       "      <td>269626.0</td>\n",
       "      <td>18-10-2011</td>\n",
       "      <td>12.0</td>\n",
       "      <td>6.0</td>\n",
       "      <td>1.0</td>\n",
       "      <td>638.0</td>\n",
       "      <td>66.990</td>\n",
       "      <td>704.990</td>\n",
       "      <td>e-Shop</td>\n",
       "      <td>Home and kitchen</td>\n",
       "      <td>12</td>\n",
       "      <td>Tools</td>\n",
       "      <td>both</td>\n",
       "    </tr>\n",
       "  </tbody>\n",
       "</table>\n",
       "</div>"
      ],
      "text/plain": [
       "       customer_Id         DOB Gender  city_code  transaction_id   cust_id  \\\n",
       "99283       269277  09-12-1992      F        2.0    6.327098e+10  269277.0   \n",
       "99284       268929  12-12-1992      F        6.0    8.476720e+10  268929.0   \n",
       "99285       269621  16-12-1992      F       10.0    4.577343e+10  269621.0   \n",
       "99286       271772  17-12-1992      M        2.0    6.189740e+10  271772.0   \n",
       "99287       274474  19-12-1992      M        2.0    8.943275e+10  274474.0   \n",
       "99288       267666  24-12-1992      M        6.0    5.009803e+10  267666.0   \n",
       "99289       267666  24-12-1992      M        6.0    7.237379e+10  267666.0   \n",
       "99290       267666  24-12-1992      M        6.0    9.720348e+10  267666.0   \n",
       "99291       270476  25-12-1992      F        3.0    7.803441e+10  270476.0   \n",
       "99292       269626  27-12-1992      F        5.0    7.136903e+10  269626.0   \n",
       "\n",
       "        tran_date  prod_subcat_code  prod_cat_code  Qty    Rate      Tax  \\\n",
       "99283  29-06-2012              12.0            6.0  4.0  1278.0  536.760   \n",
       "99284  14-09-2013               2.0            6.0  3.0  1366.0  430.290   \n",
       "99285  23-12-2011              10.0            6.0  2.0  1382.0  290.220   \n",
       "99286   7/10/2011               2.0            6.0  1.0   197.0   20.685   \n",
       "99287  31-08-2011               2.0            6.0  2.0  1334.0  280.140   \n",
       "99288    7/1/2014              12.0            6.0  5.0   591.0  310.275   \n",
       "99289  22-10-2013              11.0            6.0  2.0   612.0  128.520   \n",
       "99290  23-10-2011               2.0            6.0  3.0   507.0  159.705   \n",
       "99291  13-08-2013              11.0            6.0  1.0   971.0  101.955   \n",
       "99292  18-10-2011              12.0            6.0  1.0   638.0   66.990   \n",
       "\n",
       "       total_amt Store_type          prod_cat  prod_sub_cat_code prod_subcat  \\\n",
       "99283   5648.760     e-Shop  Home and kitchen                 12       Tools   \n",
       "99284   4528.290        MBR  Home and kitchen                 12       Tools   \n",
       "99285   3054.220   TeleShop  Home and kitchen                 12       Tools   \n",
       "99286    217.685     e-Shop  Home and kitchen                 12       Tools   \n",
       "99287   2948.140     e-Shop  Home and kitchen                 12       Tools   \n",
       "99288   3265.275     e-Shop  Home and kitchen                 12       Tools   \n",
       "99289   1352.520     e-Shop  Home and kitchen                 12       Tools   \n",
       "99290   1680.705        MBR  Home and kitchen                 12       Tools   \n",
       "99291   1072.955   TeleShop  Home and kitchen                 12       Tools   \n",
       "99292    704.990     e-Shop  Home and kitchen                 12       Tools   \n",
       "\n",
       "      _merge  \n",
       "99283   both  \n",
       "99284   both  \n",
       "99285   both  \n",
       "99286   both  \n",
       "99287   both  \n",
       "99288   both  \n",
       "99289   both  \n",
       "99290   both  \n",
       "99291   both  \n",
       "99292   both  "
      ]
     },
     "execution_count": 150,
     "metadata": {},
     "output_type": "execute_result"
    }
   ],
   "source": [
    "Customer_Final.tail(10)"
   ]
  },
  {
   "cell_type": "code",
   "execution_count": 151,
   "id": "26a9870f-2799-475b-873c-e258bf0b69b9",
   "metadata": {},
   "outputs": [
    {
     "data": {
      "text/html": [
       "<div>\n",
       "<style scoped>\n",
       "    .dataframe tbody tr th:only-of-type {\n",
       "        vertical-align: middle;\n",
       "    }\n",
       "\n",
       "    .dataframe tbody tr th {\n",
       "        vertical-align: top;\n",
       "    }\n",
       "\n",
       "    .dataframe thead th {\n",
       "        text-align: right;\n",
       "    }\n",
       "</style>\n",
       "<table border=\"1\" class=\"dataframe\">\n",
       "  <thead>\n",
       "    <tr style=\"text-align: right;\">\n",
       "      <th></th>\n",
       "      <th>customer_Id</th>\n",
       "      <th>city_code</th>\n",
       "      <th>transaction_id</th>\n",
       "      <th>cust_id</th>\n",
       "      <th>prod_subcat_code</th>\n",
       "      <th>prod_cat_code</th>\n",
       "      <th>Qty</th>\n",
       "      <th>Rate</th>\n",
       "      <th>Tax</th>\n",
       "      <th>total_amt</th>\n",
       "      <th>prod_sub_cat_code</th>\n",
       "    </tr>\n",
       "  </thead>\n",
       "  <tbody>\n",
       "    <tr>\n",
       "      <th>count</th>\n",
       "      <td>99293.000000</td>\n",
       "      <td>99257.000000</td>\n",
       "      <td>9.929300e+04</td>\n",
       "      <td>99293.000000</td>\n",
       "      <td>99293.000000</td>\n",
       "      <td>99293.000000</td>\n",
       "      <td>99293.000000</td>\n",
       "      <td>99293.000000</td>\n",
       "      <td>99293.000000</td>\n",
       "      <td>99293.000000</td>\n",
       "      <td>99293.000000</td>\n",
       "    </tr>\n",
       "    <tr>\n",
       "      <th>mean</th>\n",
       "      <td>271030.010635</td>\n",
       "      <td>5.467221</td>\n",
       "      <td>5.007320e+10</td>\n",
       "      <td>271030.010635</td>\n",
       "      <td>6.796894</td>\n",
       "      <td>4.003243</td>\n",
       "      <td>2.438017</td>\n",
       "      <td>637.919884</td>\n",
       "      <td>248.873736</td>\n",
       "      <td>2114.616420</td>\n",
       "      <td>6.806985</td>\n",
       "    </tr>\n",
       "    <tr>\n",
       "      <th>std</th>\n",
       "      <td>2429.333624</td>\n",
       "      <td>2.859343</td>\n",
       "      <td>2.899361e+10</td>\n",
       "      <td>2429.333624</td>\n",
       "      <td>3.609439</td>\n",
       "      <td>1.563991</td>\n",
       "      <td>2.260726</td>\n",
       "      <td>621.576326</td>\n",
       "      <td>187.014422</td>\n",
       "      <td>2502.306768</td>\n",
       "      <td>3.615952</td>\n",
       "    </tr>\n",
       "    <tr>\n",
       "      <th>min</th>\n",
       "      <td>266783.000000</td>\n",
       "      <td>1.000000</td>\n",
       "      <td>3.268991e+06</td>\n",
       "      <td>266783.000000</td>\n",
       "      <td>1.000000</td>\n",
       "      <td>1.000000</td>\n",
       "      <td>-5.000000</td>\n",
       "      <td>-1499.000000</td>\n",
       "      <td>7.350000</td>\n",
       "      <td>-8270.925000</td>\n",
       "      <td>1.000000</td>\n",
       "    </tr>\n",
       "    <tr>\n",
       "      <th>25%</th>\n",
       "      <td>268956.000000</td>\n",
       "      <td>3.000000</td>\n",
       "      <td>2.492150e+10</td>\n",
       "      <td>268956.000000</td>\n",
       "      <td>4.000000</td>\n",
       "      <td>3.000000</td>\n",
       "      <td>1.000000</td>\n",
       "      <td>313.000000</td>\n",
       "      <td>98.280000</td>\n",
       "      <td>762.450000</td>\n",
       "      <td>4.000000</td>\n",
       "    </tr>\n",
       "    <tr>\n",
       "      <th>50%</th>\n",
       "      <td>270982.000000</td>\n",
       "      <td>5.000000</td>\n",
       "      <td>5.011083e+10</td>\n",
       "      <td>270982.000000</td>\n",
       "      <td>7.000000</td>\n",
       "      <td>5.000000</td>\n",
       "      <td>3.000000</td>\n",
       "      <td>713.000000</td>\n",
       "      <td>199.920000</td>\n",
       "      <td>1761.370000</td>\n",
       "      <td>7.000000</td>\n",
       "    </tr>\n",
       "    <tr>\n",
       "      <th>75%</th>\n",
       "      <td>273120.000000</td>\n",
       "      <td>8.000000</td>\n",
       "      <td>7.528121e+10</td>\n",
       "      <td>273120.000000</td>\n",
       "      <td>10.000000</td>\n",
       "      <td>5.000000</td>\n",
       "      <td>4.000000</td>\n",
       "      <td>1109.000000</td>\n",
       "      <td>366.975000</td>\n",
       "      <td>3585.725000</td>\n",
       "      <td>10.000000</td>\n",
       "    </tr>\n",
       "    <tr>\n",
       "      <th>max</th>\n",
       "      <td>275265.000000</td>\n",
       "      <td>10.000000</td>\n",
       "      <td>9.998755e+10</td>\n",
       "      <td>275265.000000</td>\n",
       "      <td>12.000000</td>\n",
       "      <td>6.000000</td>\n",
       "      <td>5.000000</td>\n",
       "      <td>1500.000000</td>\n",
       "      <td>787.500000</td>\n",
       "      <td>8287.500000</td>\n",
       "      <td>12.000000</td>\n",
       "    </tr>\n",
       "  </tbody>\n",
       "</table>\n",
       "</div>"
      ],
      "text/plain": [
       "         customer_Id     city_code  transaction_id        cust_id  \\\n",
       "count   99293.000000  99257.000000    9.929300e+04   99293.000000   \n",
       "mean   271030.010635      5.467221    5.007320e+10  271030.010635   \n",
       "std      2429.333624      2.859343    2.899361e+10    2429.333624   \n",
       "min    266783.000000      1.000000    3.268991e+06  266783.000000   \n",
       "25%    268956.000000      3.000000    2.492150e+10  268956.000000   \n",
       "50%    270982.000000      5.000000    5.011083e+10  270982.000000   \n",
       "75%    273120.000000      8.000000    7.528121e+10  273120.000000   \n",
       "max    275265.000000     10.000000    9.998755e+10  275265.000000   \n",
       "\n",
       "       prod_subcat_code  prod_cat_code           Qty          Rate  \\\n",
       "count      99293.000000   99293.000000  99293.000000  99293.000000   \n",
       "mean           6.796894       4.003243      2.438017    637.919884   \n",
       "std            3.609439       1.563991      2.260726    621.576326   \n",
       "min            1.000000       1.000000     -5.000000  -1499.000000   \n",
       "25%            4.000000       3.000000      1.000000    313.000000   \n",
       "50%            7.000000       5.000000      3.000000    713.000000   \n",
       "75%           10.000000       5.000000      4.000000   1109.000000   \n",
       "max           12.000000       6.000000      5.000000   1500.000000   \n",
       "\n",
       "                Tax     total_amt  prod_sub_cat_code  \n",
       "count  99293.000000  99293.000000       99293.000000  \n",
       "mean     248.873736   2114.616420           6.806985  \n",
       "std      187.014422   2502.306768           3.615952  \n",
       "min        7.350000  -8270.925000           1.000000  \n",
       "25%       98.280000    762.450000           4.000000  \n",
       "50%      199.920000   1761.370000           7.000000  \n",
       "75%      366.975000   3585.725000          10.000000  \n",
       "max      787.500000   8287.500000          12.000000  "
      ]
     },
     "execution_count": 151,
     "metadata": {},
     "output_type": "execute_result"
    }
   ],
   "source": [
    "Customer_Final.describe()"
   ]
  },
  {
   "cell_type": "code",
   "execution_count": 152,
   "id": "5b4ea1f5-ad0c-41d5-a5a9-8c0758894b9c",
   "metadata": {},
   "outputs": [
    {
     "data": {
      "text/html": [
       "<div>\n",
       "<style scoped>\n",
       "    .dataframe tbody tr th:only-of-type {\n",
       "        vertical-align: middle;\n",
       "    }\n",
       "\n",
       "    .dataframe tbody tr th {\n",
       "        vertical-align: top;\n",
       "    }\n",
       "\n",
       "    .dataframe thead th {\n",
       "        text-align: right;\n",
       "    }\n",
       "</style>\n",
       "<table border=\"1\" class=\"dataframe\">\n",
       "  <thead>\n",
       "    <tr style=\"text-align: right;\">\n",
       "      <th></th>\n",
       "      <th>DOB</th>\n",
       "      <th>Gender</th>\n",
       "      <th>tran_date</th>\n",
       "      <th>Store_type</th>\n",
       "      <th>prod_cat</th>\n",
       "      <th>prod_subcat</th>\n",
       "    </tr>\n",
       "  </thead>\n",
       "  <tbody>\n",
       "    <tr>\n",
       "      <th>count</th>\n",
       "      <td>99293</td>\n",
       "      <td>99253</td>\n",
       "      <td>99293</td>\n",
       "      <td>99293</td>\n",
       "      <td>99293</td>\n",
       "      <td>99293</td>\n",
       "    </tr>\n",
       "    <tr>\n",
       "      <th>unique</th>\n",
       "      <td>3987</td>\n",
       "      <td>2</td>\n",
       "      <td>1129</td>\n",
       "      <td>4</td>\n",
       "      <td>6</td>\n",
       "      <td>18</td>\n",
       "    </tr>\n",
       "    <tr>\n",
       "      <th>top</th>\n",
       "      <td>27-12-1988</td>\n",
       "      <td>M</td>\n",
       "      <td>25-08-2012</td>\n",
       "      <td>e-Shop</td>\n",
       "      <td>Books</td>\n",
       "      <td>Mens</td>\n",
       "    </tr>\n",
       "    <tr>\n",
       "      <th>freq</th>\n",
       "      <td>156</td>\n",
       "      <td>51051</td>\n",
       "      <td>153</td>\n",
       "      <td>40185</td>\n",
       "      <td>36414</td>\n",
       "      <td>7957</td>\n",
       "    </tr>\n",
       "  </tbody>\n",
       "</table>\n",
       "</div>"
      ],
      "text/plain": [
       "               DOB Gender   tran_date Store_type prod_cat prod_subcat\n",
       "count        99293  99253       99293      99293    99293       99293\n",
       "unique        3987      2        1129          4        6          18\n",
       "top     27-12-1988      M  25-08-2012     e-Shop    Books        Mens\n",
       "freq           156  51051         153      40185    36414        7957"
      ]
     },
     "execution_count": 152,
     "metadata": {},
     "output_type": "execute_result"
    }
   ],
   "source": [
    "Customer_Final.loc[:,Customer_Final.dtypes==\"object\"].describe()"
   ]
  },
  {
   "cell_type": "code",
   "execution_count": 153,
   "id": "bc12eb34-53bd-4b72-89ea-8c97e8281cec",
   "metadata": {},
   "outputs": [],
   "source": [
    "# 3. Generate histograms for all continuous variables and frequency bars for categorical variables."
   ]
  },
  {
   "cell_type": "code",
   "execution_count": 154,
   "id": "b1767826-989e-4e0a-b34b-dfcefabeb0f2",
   "metadata": {},
   "outputs": [],
   "source": [
    "Flt = Customer_Final.loc[:, (Customer_Final.dtypes=='int64') | (Customer_Final.dtypes=='float64')]\n"
   ]
  },
  {
   "cell_type": "code",
   "execution_count": 155,
   "id": "6999dcc0-6954-49db-a14e-8d4300283b98",
   "metadata": {},
   "outputs": [
    {
     "data": {
      "text/plain": [
       "Index(['customer_Id', 'city_code', 'transaction_id', 'cust_id',\n",
       "       'prod_subcat_code', 'prod_cat_code', 'Qty', 'Rate', 'Tax', 'total_amt',\n",
       "       'prod_sub_cat_code'],\n",
       "      dtype='object')"
      ]
     },
     "execution_count": 155,
     "metadata": {},
     "output_type": "execute_result"
    }
   ],
   "source": [
    "Flt.columns"
   ]
  },
  {
   "cell_type": "code",
   "execution_count": 156,
   "id": "9b42d18a-8373-49a4-8e16-fe5b79276b88",
   "metadata": {},
   "outputs": [
    {
     "data": {
      "text/plain": [
       "Index(['prod_subcat_code', 'prod_cat_code', 'Qty', 'Rate', 'Tax', 'total_amt'], dtype='object')"
      ]
     },
     "execution_count": 156,
     "metadata": {},
     "output_type": "execute_result"
    }
   ],
   "source": [
    "Continuous = Customer_Final.loc[:,['prod_subcat_code','prod_cat_code', 'Qty', 'Rate', 'Tax', 'total_amt']]\n",
    "Continuous.columns"
   ]
  },
  {
   "cell_type": "code",
   "execution_count": 157,
   "id": "13859db1-e469-4389-b1f0-e08ee062bff3",
   "metadata": {},
   "outputs": [
    {
     "data": {
      "image/png": "[encoded data removed]",
      "text/plain": [
       "<Figure size 640x480 with 1 Axes>"
      ]
     },
     "metadata": {},
     "output_type": "display_data"
    },
    {
     "data": {
      "image/png": "[encoded data removed]",
      "text/plain": [
       "<Figure size 640x480 with 1 Axes>"
      ]
     },
     "metadata": {},
     "output_type": "display_data"
    },
    {
     "data": {
      "image/png": "[encoded data removed]",
      "text/plain": [
       "<Figure size 640x480 with 1 Axes>"
      ]
     },
     "metadata": {},
     "output_type": "display_data"
    },
    {
     "data": {
      "image/png": "[encoded data removed]",
      "text/plain": [
       "<Figure size 640x480 with 1 Axes>"
      ]
     },
     "metadata": {},
     "output_type": "display_data"
    },
    {
     "data": {
      "image/png": "[encoded data removed]",
      "text/plain": [
       "<Figure size 640x480 with 1 Axes>"
      ]
     },
     "metadata": {},
     "output_type": "display_data"
    },
    {
     "data": {
      "image/png": "[encoded data removed]",
      "text/plain": [
       "<Figure size 640x480 with 1 Axes>"
      ]
     },
     "metadata": {},
     "output_type": "display_data"
    }
   ],
   "source": [
    "for col in Continuous.columns:\n",
    "    Continuous[col].plot(kind='hist')\n",
    "    plt.title(col)\n",
    "    plt.show()"
   ]
  },
  {
   "cell_type": "code",
   "execution_count": 158,
   "id": "3146ad72-cbf5-4a28-8f24-9b91d8aae27d",
   "metadata": {},
   "outputs": [
    {
     "data": {
      "text/plain": [
       "Index(['DOB', 'Gender', 'tran_date', 'Store_type', 'prod_cat', 'prod_subcat'], dtype='object')"
      ]
     },
     "execution_count": 158,
     "metadata": {},
     "output_type": "execute_result"
    }
   ],
   "source": [
    "Categorical = Customer_Final.loc[:, (Customer_Final.dtypes=='object')]\n",
    "Categorical.columns"
   ]
  },
  {
   "cell_type": "code",
   "execution_count": 159,
   "id": "bd9633e4-3825-4f8f-a28b-43487898de4a",
   "metadata": {},
   "outputs": [
    {
     "data": {
      "text/plain": [
       "<Axes: xlabel='Store_type'>"
      ]
     },
     "execution_count": 159,
     "metadata": {},
     "output_type": "execute_result"
    },
    {
     "data": {
      "image/png": "[encoded data removed]",
      "text/plain": [
       "<Figure size 640x480 with 1 Axes>"
      ]
     },
     "metadata": {},
     "output_type": "display_data"
    }
   ],
   "source": [
    "Categorical.Store_type.value_counts().plot.bar()"
   ]
  },
  {
   "cell_type": "code",
   "execution_count": 160,
   "id": "a517a12a-868f-473a-9a20-9ca1efefe0a1",
   "metadata": {},
   "outputs": [
    {
     "data": {
      "text/plain": [
       "<Axes: xlabel='Gender'>"
      ]
     },
     "execution_count": 160,
     "metadata": {},
     "output_type": "execute_result"
    },
    {
     "data": {
      "image/png": "[encoded data removed]",
      "text/plain": [
       "<Figure size 640x480 with 1 Axes>"
      ]
     },
     "metadata": {},
     "output_type": "display_data"
    }
   ],
   "source": [
    "Categorical.Gender.value_counts().plot.bar()"
   ]
  },
  {
   "cell_type": "code",
   "execution_count": 161,
   "id": "251d610d-7a03-408e-ad8a-450f4f14f663",
   "metadata": {},
   "outputs": [
    {
     "data": {
      "text/plain": [
       "<Axes: xlabel='prod_cat'>"
      ]
     },
     "execution_count": 161,
     "metadata": {},
     "output_type": "execute_result"
    },
    {
     "data": {
      "image/png": "[encoded data removed]",
      "text/plain": [
       "<Figure size 640x480 with 1 Axes>"
      ]
     },
     "metadata": {},
     "output_type": "display_data"
    }
   ],
   "source": [
    "Categorical.prod_cat.value_counts().plot.bar()"
   ]
  },
  {
   "cell_type": "code",
   "execution_count": 162,
   "id": "30053884-ccec-487c-ad7b-afade15f59d5",
   "metadata": {},
   "outputs": [
    {
     "data": {
      "text/plain": [
       "<Axes: xlabel='prod_subcat'>"
      ]
     },
     "execution_count": 162,
     "metadata": {},
     "output_type": "execute_result"
    },
    {
     "data": {
      "image/png": "[encoded data removed]",
      "text/plain": [
       "<Figure size 640x480 with 1 Axes>"
      ]
     },
     "metadata": {},
     "output_type": "display_data"
    }
   ],
   "source": [
    "Categorical.prod_subcat.value_counts().plot.bar()"
   ]
  },
  {
   "cell_type": "code",
   "execution_count": 163,
   "id": "6e7dac54-3c57-468b-bfd4-335c9802e5a5",
   "metadata": {},
   "outputs": [],
   "source": [
    "# 4. Calculate the following information using the merged dataset :\n",
    "# a. Time period of the available transaction data\n",
    "# b. Count of transactions where the total amount of transaction was negative"
   ]
  },
  {
   "cell_type": "code",
   "execution_count": 164,
   "id": "a567e0d2-039d-4dad-96d4-6b4c65979d4a",
   "metadata": {},
   "outputs": [
    {
     "name": "stdout",
     "output_type": "stream",
     "text": [
      "The time period of transaction data is from 1/1/2012 to 9/9/2013\n"
     ]
    }
   ],
   "source": [
    "Customer_Final.sort_values(by=\"tran_date\")\n",
    "print(\"The time period of transaction data is from \"+Customer_Final[\"tran_date\"].min()+\" to \"+Customer_Final[\"tran_date\"].max())\n"
   ]
  },
  {
   "cell_type": "code",
   "execution_count": 165,
   "id": "c7a9d8c6-4066-4036-a0c1-e6d2c2b50094",
   "metadata": {},
   "outputs": [
    {
     "data": {
      "text/plain": [
       "9294"
      ]
     },
     "execution_count": 165,
     "metadata": {},
     "output_type": "execute_result"
    }
   ],
   "source": [
    " len(Customer_Final[Customer_Final.total_amt<0].total_amt)\n"
   ]
  },
  {
   "cell_type": "code",
   "execution_count": 166,
   "id": "65d382fa-2a9e-481f-8a81-da4ef32430fd",
   "metadata": {},
   "outputs": [],
   "source": [
    "#5. Analyze which product categories are more popular among females vs male customers."
   ]
  },
  {
   "cell_type": "code",
   "execution_count": 167,
   "id": "6ae15567-7d72-456b-b93b-cfc341337b4a",
   "metadata": {},
   "outputs": [
    {
     "data": {
      "text/html": [
       "<div>\n",
       "<style scoped>\n",
       "    .dataframe tbody tr th:only-of-type {\n",
       "        vertical-align: middle;\n",
       "    }\n",
       "\n",
       "    .dataframe tbody tr th {\n",
       "        vertical-align: top;\n",
       "    }\n",
       "\n",
       "    .dataframe thead th {\n",
       "        text-align: right;\n",
       "    }\n",
       "</style>\n",
       "<table border=\"1\" class=\"dataframe\">\n",
       "  <thead>\n",
       "    <tr style=\"text-align: right;\">\n",
       "      <th></th>\n",
       "      <th>prod_cat</th>\n",
       "      <th>Gender</th>\n",
       "      <th>transaction_id</th>\n",
       "    </tr>\n",
       "  </thead>\n",
       "  <tbody>\n",
       "    <tr>\n",
       "      <th>0</th>\n",
       "      <td>Bags</td>\n",
       "      <td>F</td>\n",
       "      <td>1988</td>\n",
       "    </tr>\n",
       "    <tr>\n",
       "      <th>1</th>\n",
       "      <td>Bags</td>\n",
       "      <td>M</td>\n",
       "      <td>2008</td>\n",
       "    </tr>\n",
       "    <tr>\n",
       "      <th>2</th>\n",
       "      <td>Books</td>\n",
       "      <td>F</td>\n",
       "      <td>17694</td>\n",
       "    </tr>\n",
       "    <tr>\n",
       "      <th>3</th>\n",
       "      <td>Books</td>\n",
       "      <td>M</td>\n",
       "      <td>18696</td>\n",
       "    </tr>\n",
       "    <tr>\n",
       "      <th>4</th>\n",
       "      <td>Clothing</td>\n",
       "      <td>F</td>\n",
       "      <td>4317</td>\n",
       "    </tr>\n",
       "    <tr>\n",
       "      <th>5</th>\n",
       "      <td>Clothing</td>\n",
       "      <td>M</td>\n",
       "      <td>4554</td>\n",
       "    </tr>\n",
       "    <tr>\n",
       "      <th>6</th>\n",
       "      <td>Electronics</td>\n",
       "      <td>F</td>\n",
       "      <td>11640</td>\n",
       "    </tr>\n",
       "    <tr>\n",
       "      <th>7</th>\n",
       "      <td>Electronics</td>\n",
       "      <td>M</td>\n",
       "      <td>12850</td>\n",
       "    </tr>\n",
       "    <tr>\n",
       "      <th>8</th>\n",
       "      <td>Footwear</td>\n",
       "      <td>F</td>\n",
       "      <td>4587</td>\n",
       "    </tr>\n",
       "    <tr>\n",
       "      <th>9</th>\n",
       "      <td>Footwear</td>\n",
       "      <td>M</td>\n",
       "      <td>4407</td>\n",
       "    </tr>\n",
       "    <tr>\n",
       "      <th>10</th>\n",
       "      <td>Home and kitchen</td>\n",
       "      <td>F</td>\n",
       "      <td>7976</td>\n",
       "    </tr>\n",
       "    <tr>\n",
       "      <th>11</th>\n",
       "      <td>Home and kitchen</td>\n",
       "      <td>M</td>\n",
       "      <td>8536</td>\n",
       "    </tr>\n",
       "  </tbody>\n",
       "</table>\n",
       "</div>"
      ],
      "text/plain": [
       "            prod_cat Gender  transaction_id\n",
       "0               Bags      F            1988\n",
       "1               Bags      M            2008\n",
       "2              Books      F           17694\n",
       "3              Books      M           18696\n",
       "4           Clothing      F            4317\n",
       "5           Clothing      M            4554\n",
       "6        Electronics      F           11640\n",
       "7        Electronics      M           12850\n",
       "8           Footwear      F            4587\n",
       "9           Footwear      M            4407\n",
       "10  Home and kitchen      F            7976\n",
       "11  Home and kitchen      M            8536"
      ]
     },
     "execution_count": 167,
     "metadata": {},
     "output_type": "execute_result"
    }
   ],
   "source": [
    "Customer_Final.groupby(['prod_cat', 'Gender'])['transaction_id'].count(). reset_index()"
   ]
  },
  {
   "cell_type": "code",
   "execution_count": 168,
   "id": "ee4ede84-4032-43be-b6a9-1d625871d47e",
   "metadata": {},
   "outputs": [],
   "source": [
    "# 6. Which City code has the maximum customers and what was the percentage of customers from that city?"
   ]
  },
  {
   "cell_type": "code",
   "execution_count": 169,
   "id": "88863351-e832-4336-b0fb-b5866cdf1b1e",
   "metadata": {},
   "outputs": [
    {
     "data": {
      "text/html": [
       "<div>\n",
       "<style scoped>\n",
       "    .dataframe tbody tr th:only-of-type {\n",
       "        vertical-align: middle;\n",
       "    }\n",
       "\n",
       "    .dataframe tbody tr th {\n",
       "        vertical-align: top;\n",
       "    }\n",
       "\n",
       "    .dataframe thead th {\n",
       "        text-align: right;\n",
       "    }\n",
       "</style>\n",
       "<table border=\"1\" class=\"dataframe\">\n",
       "  <thead>\n",
       "    <tr style=\"text-align: right;\">\n",
       "      <th></th>\n",
       "      <th>city_code</th>\n",
       "      <th>customer_Id</th>\n",
       "      <th>percentage</th>\n",
       "    </tr>\n",
       "  </thead>\n",
       "  <tbody>\n",
       "    <tr>\n",
       "      <th>0</th>\n",
       "      <td>4.0</td>\n",
       "      <td>10571</td>\n",
       "      <td>10.65013</td>\n",
       "    </tr>\n",
       "  </tbody>\n",
       "</table>\n",
       "</div>"
      ],
      "text/plain": [
       "   city_code  customer_Id  percentage\n",
       "0        4.0        10571    10.65013"
      ]
     },
     "execution_count": 169,
     "metadata": {},
     "output_type": "execute_result"
    }
   ],
   "source": [
    "Code = Customer_Final.groupby('city_code')['customer_Id'].count().sort_values(ascending=False).reset_index()\n",
    "Code['percentage'] = (Code['customer_Id'] / Code['customer_Id'].sum()) * 100\n",
    "Code.head(1)\n"
   ]
  },
  {
   "cell_type": "code",
   "execution_count": 170,
   "id": "d14a2a7c-f6d9-4135-9106-48ae99e026b2",
   "metadata": {},
   "outputs": [
    {
     "data": {
      "text/html": [
       "<div>\n",
       "<style scoped>\n",
       "    .dataframe tbody tr th:only-of-type {\n",
       "        vertical-align: middle;\n",
       "    }\n",
       "\n",
       "    .dataframe tbody tr th {\n",
       "        vertical-align: top;\n",
       "    }\n",
       "\n",
       "    .dataframe thead th {\n",
       "        text-align: right;\n",
       "    }\n",
       "</style>\n",
       "<table border=\"1\" class=\"dataframe\">\n",
       "  <thead>\n",
       "    <tr style=\"text-align: right;\">\n",
       "      <th></th>\n",
       "      <th>customer_Id</th>\n",
       "      <th>DOB</th>\n",
       "      <th>Gender</th>\n",
       "      <th>city_code</th>\n",
       "      <th>transaction_id</th>\n",
       "      <th>cust_id</th>\n",
       "      <th>tran_date</th>\n",
       "      <th>prod_subcat_code</th>\n",
       "      <th>prod_cat_code</th>\n",
       "      <th>Qty</th>\n",
       "      <th>Rate</th>\n",
       "      <th>Tax</th>\n",
       "      <th>total_amt</th>\n",
       "      <th>Store_type</th>\n",
       "      <th>prod_cat</th>\n",
       "      <th>prod_sub_cat_code</th>\n",
       "      <th>prod_subcat</th>\n",
       "      <th>_merge</th>\n",
       "    </tr>\n",
       "  </thead>\n",
       "  <tbody>\n",
       "    <tr>\n",
       "      <th>0</th>\n",
       "      <td>268408</td>\n",
       "      <td>02-01-1970</td>\n",
       "      <td>M</td>\n",
       "      <td>4.0</td>\n",
       "      <td>6.331455e+10</td>\n",
       "      <td>268408.0</td>\n",
       "      <td>26-04-2012</td>\n",
       "      <td>1.0</td>\n",
       "      <td>1.0</td>\n",
       "      <td>1.0</td>\n",
       "      <td>806.0</td>\n",
       "      <td>84.63</td>\n",
       "      <td>890.63</td>\n",
       "      <td>Flagship store</td>\n",
       "      <td>Clothing</td>\n",
       "      <td>4</td>\n",
       "      <td>Mens</td>\n",
       "      <td>both</td>\n",
       "    </tr>\n",
       "  </tbody>\n",
       "</table>\n",
       "</div>"
      ],
      "text/plain": [
       "   customer_Id         DOB Gender  city_code  transaction_id   cust_id  \\\n",
       "0       268408  02-01-1970      M        4.0    6.331455e+10  268408.0   \n",
       "\n",
       "    tran_date  prod_subcat_code  prod_cat_code  Qty   Rate    Tax  total_amt  \\\n",
       "0  26-04-2012               1.0            1.0  1.0  806.0  84.63     890.63   \n",
       "\n",
       "       Store_type  prod_cat  prod_sub_cat_code prod_subcat _merge  \n",
       "0  Flagship store  Clothing                  4        Mens   both  "
      ]
     },
     "execution_count": 170,
     "metadata": {},
     "output_type": "execute_result"
    }
   ],
   "source": [
    "# 7. Which store type sells the maximum products by value and by quantity?\n",
    "Customer_Final.head(1)"
   ]
  },
  {
   "cell_type": "code",
   "execution_count": 171,
   "id": "50af7b14-58cf-4647-8e74-d2733540eef4",
   "metadata": {},
   "outputs": [
    {
     "data": {
      "text/html": [
       "<div>\n",
       "<style scoped>\n",
       "    .dataframe tbody tr th:only-of-type {\n",
       "        vertical-align: middle;\n",
       "    }\n",
       "\n",
       "    .dataframe tbody tr th {\n",
       "        vertical-align: top;\n",
       "    }\n",
       "\n",
       "    .dataframe thead th {\n",
       "        text-align: right;\n",
       "    }\n",
       "</style>\n",
       "<table border=\"1\" class=\"dataframe\">\n",
       "  <thead>\n",
       "    <tr style=\"text-align: right;\">\n",
       "      <th></th>\n",
       "      <th>Store_type</th>\n",
       "      <th>Qty</th>\n",
       "      <th>Rate</th>\n",
       "    </tr>\n",
       "  </thead>\n",
       "  <tbody>\n",
       "    <tr>\n",
       "      <th>0</th>\n",
       "      <td>Flagship store</td>\n",
       "      <td>48007.0</td>\n",
       "      <td>12715977.0</td>\n",
       "    </tr>\n",
       "    <tr>\n",
       "      <th>1</th>\n",
       "      <td>MBR</td>\n",
       "      <td>48285.0</td>\n",
       "      <td>12682308.0</td>\n",
       "    </tr>\n",
       "    <tr>\n",
       "      <th>2</th>\n",
       "      <td>TeleShop</td>\n",
       "      <td>47339.0</td>\n",
       "      <td>12252103.0</td>\n",
       "    </tr>\n",
       "    <tr>\n",
       "      <th>3</th>\n",
       "      <td>e-Shop</td>\n",
       "      <td>98447.0</td>\n",
       "      <td>25690591.0</td>\n",
       "    </tr>\n",
       "  </tbody>\n",
       "</table>\n",
       "</div>"
      ],
      "text/plain": [
       "       Store_type      Qty        Rate\n",
       "0  Flagship store  48007.0  12715977.0\n",
       "1             MBR  48285.0  12682308.0\n",
       "2        TeleShop  47339.0  12252103.0\n",
       "3          e-Shop  98447.0  25690591.0"
      ]
     },
     "execution_count": 171,
     "metadata": {},
     "output_type": "execute_result"
    }
   ],
   "source": [
    "store_type = Customer_Final.groupby(by = ['Store_type'])[['Qty', 'Rate']].sum().reset_index()\n",
    "store_type.head()"
   ]
  },
  {
   "cell_type": "code",
   "execution_count": 172,
   "id": "ce166f21-7774-4d0a-89c5-4019add8e62b",
   "metadata": {},
   "outputs": [],
   "source": [
    "#8. What was the total amount earned from the \"Electronics\" and \"Clothing\" categories from Flagship Stores?"
   ]
  },
  {
   "cell_type": "code",
   "execution_count": 173,
   "id": "ac4684b2-a725-4100-8c25-cf9e214e83f3",
   "metadata": {},
   "outputs": [
    {
     "data": {
      "text/html": [
       "<div>\n",
       "<style scoped>\n",
       "    .dataframe tbody tr th:only-of-type {\n",
       "        vertical-align: middle;\n",
       "    }\n",
       "\n",
       "    .dataframe tbody tr th {\n",
       "        vertical-align: top;\n",
       "    }\n",
       "\n",
       "    .dataframe thead th {\n",
       "        text-align: right;\n",
       "    }\n",
       "</style>\n",
       "<table border=\"1\" class=\"dataframe\">\n",
       "  <thead>\n",
       "    <tr style=\"text-align: right;\">\n",
       "      <th></th>\n",
       "      <th>index</th>\n",
       "      <th>Store_type</th>\n",
       "      <th>prod_cat</th>\n",
       "      <th>total_amt</th>\n",
       "    </tr>\n",
       "  </thead>\n",
       "  <tbody>\n",
       "    <tr>\n",
       "      <th>0</th>\n",
       "      <td>2</td>\n",
       "      <td>Flagship store</td>\n",
       "      <td>Clothing</td>\n",
       "      <td>3583269.69</td>\n",
       "    </tr>\n",
       "    <tr>\n",
       "      <th>1</th>\n",
       "      <td>3</td>\n",
       "      <td>Flagship store</td>\n",
       "      <td>Electronics</td>\n",
       "      <td>11075680.20</td>\n",
       "    </tr>\n",
       "  </tbody>\n",
       "</table>\n",
       "</div>"
      ],
      "text/plain": [
       "   index      Store_type     prod_cat    total_amt\n",
       "0      2  Flagship store     Clothing   3583269.69\n",
       "1      3  Flagship store  Electronics  11075680.20"
      ]
     },
     "execution_count": 173,
     "metadata": {},
     "output_type": "execute_result"
    }
   ],
   "source": [
    "A = Customer_Final.groupby(['Store_type', 'prod_cat'])['total_amt'].sum().reset_index()\n",
    "B = A[(A.Store_type == 'Flagship store')&((A.prod_cat == 'Electronics')|(A.prod_cat == 'Clothing'))]\n",
    "B.reset_index()"
   ]
  },
  {
   "cell_type": "code",
   "execution_count": 174,
   "id": "411eb311-f28e-4a2a-88f8-89f4d1963ce0",
   "metadata": {},
   "outputs": [],
   "source": [
    "# 9. What was the total amount earned from \"Male\" customers under the \"Electronics\" category?"
   ]
  },
  {
   "cell_type": "code",
   "execution_count": 175,
   "id": "d66e2c48-1cf8-4d31-bf6e-8d3186ed5d25",
   "metadata": {},
   "outputs": [
    {
     "data": {
      "text/html": [
       "<div>\n",
       "<style scoped>\n",
       "    .dataframe tbody tr th:only-of-type {\n",
       "        vertical-align: middle;\n",
       "    }\n",
       "\n",
       "    .dataframe tbody tr th {\n",
       "        vertical-align: top;\n",
       "    }\n",
       "\n",
       "    .dataframe thead th {\n",
       "        text-align: right;\n",
       "    }\n",
       "</style>\n",
       "<table border=\"1\" class=\"dataframe\">\n",
       "  <thead>\n",
       "    <tr style=\"text-align: right;\">\n",
       "      <th></th>\n",
       "      <th>index</th>\n",
       "      <th>Gender</th>\n",
       "      <th>prod_cat</th>\n",
       "      <th>total_amt</th>\n",
       "    </tr>\n",
       "  </thead>\n",
       "  <tbody>\n",
       "    <tr>\n",
       "      <th>0</th>\n",
       "      <td>9</td>\n",
       "      <td>M</td>\n",
       "      <td>Electronics</td>\n",
       "      <td>2.851555e+07</td>\n",
       "    </tr>\n",
       "  </tbody>\n",
       "</table>\n",
       "</div>"
      ],
      "text/plain": [
       "   index Gender     prod_cat     total_amt\n",
       "0      9      M  Electronics  2.851555e+07"
      ]
     },
     "execution_count": 175,
     "metadata": {},
     "output_type": "execute_result"
    }
   ],
   "source": [
    "C = Customer_Final.groupby(['Gender','prod_cat'])['total_amt'].sum().reset_index()\n",
    "amt = C[(C.Gender == 'M') & (C.prod_cat == 'Electronics')]\n",
    "amt.reset_index()"
   ]
  },
  {
   "cell_type": "code",
   "execution_count": 176,
   "id": "f021b889-7e91-452d-9d62-8ede1522745d",
   "metadata": {},
   "outputs": [],
   "source": [
    "#10. How many customers have more than 10 unique transactions, after removing all transactions which have any negative amounts?"
   ]
  },
  {
   "cell_type": "code",
   "execution_count": 177,
   "id": "61615581-bdc4-4b87-827b-101ddede380c",
   "metadata": {},
   "outputs": [
    {
     "data": {
      "text/plain": [
       "4019"
      ]
     },
     "execution_count": 177,
     "metadata": {},
     "output_type": "execute_result"
    }
   ],
   "source": [
    "U = Customer_Final[Customer_Final.total_amt>0].groupby('customer_Id')['transaction_id'].count().reset_index()\n",
    "unique = U[U.transaction_id>10]\n",
    "unique.customer_Id.count()"
   ]
  },
  {
   "cell_type": "code",
   "execution_count": 178,
   "id": "8745c5fc-5aea-4cd5-a97e-352d41b569ab",
   "metadata": {},
   "outputs": [],
   "source": [
    "# 11. For all customers aged between 25 - 35, find out:\n",
    " # a. What was the total amount spent for “Electronics” and “Books” product categories?\n",
    " # b. What was the total amount spent by these customers between 1st Jan, 2014 to 1st Mar, 2014?"
   ]
  },
  {
   "cell_type": "code",
   "execution_count": 179,
   "id": "be583aba-8b85-4d88-9109-37a4ad40a8b3",
   "metadata": {},
   "outputs": [
    {
     "data": {
      "text/html": [
       "<div>\n",
       "<style scoped>\n",
       "    .dataframe tbody tr th:only-of-type {\n",
       "        vertical-align: middle;\n",
       "    }\n",
       "\n",
       "    .dataframe tbody tr th {\n",
       "        vertical-align: top;\n",
       "    }\n",
       "\n",
       "    .dataframe thead th {\n",
       "        text-align: right;\n",
       "    }\n",
       "</style>\n",
       "<table border=\"1\" class=\"dataframe\">\n",
       "  <thead>\n",
       "    <tr style=\"text-align: right;\">\n",
       "      <th></th>\n",
       "      <th>prod_cat</th>\n",
       "      <th>total_amt</th>\n",
       "    </tr>\n",
       "  </thead>\n",
       "  <tbody>\n",
       "    <tr>\n",
       "      <th>0</th>\n",
       "      <td>Books</td>\n",
       "      <td>1.265501e+07</td>\n",
       "    </tr>\n",
       "    <tr>\n",
       "      <th>1</th>\n",
       "      <td>Electronics</td>\n",
       "      <td>9.096509e+06</td>\n",
       "    </tr>\n",
       "  </tbody>\n",
       "</table>\n",
       "</div>"
      ],
      "text/plain": [
       "      prod_cat     total_amt\n",
       "0        Books  1.265501e+07\n",
       "1  Electronics  9.096509e+06"
      ]
     },
     "execution_count": 179,
     "metadata": {},
     "output_type": "execute_result"
    }
   ],
   "source": [
    "Customer_Final['Age'] = (datetime.datetime.now().year - pd.DatetimeIndex(Customer_Final['DOB']).year)\n",
    "Customer_Final[((Customer_Final.prod_cat == 'Electronics')|(Customer_Final.prod_cat == 'Books')) & ((Customer_Final.Age >= 25)\n",
    "                        & (Customer_Final.Age <=35))].groupby('prod_cat')['total_amt'].sum().reset_index()\n",
    "\n"
   ]
  },
  {
   "cell_type": "code",
   "execution_count": null,
   "id": "3864d5ea-8c6f-4d8d-abec-ca7d16837f73",
   "metadata": {},
   "outputs": [],
   "source": []
  },
  {
   "cell_type": "code",
   "execution_count": null,
   "id": "03be2531-c57e-461c-a4b1-a17cfe3675e7",
   "metadata": {},
   "outputs": [],
   "source": []
  }
 ],
 "metadata": {
  "kernelspec": {
   "display_name": "Python 3 (ipykernel)",
   "language": "python",
   "name": "python3"
  },
  "language_info": {
   "codemirror_mode": {
    "name": "ipython",
    "version": 3
   },
   "file_extension": ".py",
   "mimetype": "text/x-python",
   "name": "python",
   "nbconvert_exporter": "python",
   "pygments_lexer": "ipython3",
   "version": "3.11.7"
  }
 },
 "nbformat": 4,
 "nbformat_minor": 5
}
